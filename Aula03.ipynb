{
  "nbformat": 4,
  "nbformat_minor": 0,
  "metadata": {
    "colab": {
      "provenance": [],
      "authorship_tag": "ABX9TyMSAuLYUixtUdfccd9RTpgM",
      "include_colab_link": true
    },
    "kernelspec": {
      "name": "python3",
      "display_name": "Python 3"
    },
    "language_info": {
      "name": "python"
    }
  },
  "cells": [
    {
      "cell_type": "markdown",
      "metadata": {
        "id": "view-in-github",
        "colab_type": "text"
      },
      "source": [
        "<a href=\"https://colab.research.google.com/github/MelissaLopesOliveira/Curso-Ada-Python/blob/main/Aula03.ipynb\" target=\"_parent\"><img src=\"https://colab.research.google.com/assets/colab-badge.svg\" alt=\"Open In Colab\"/></a>"
      ]
    },
    {
      "cell_type": "markdown",
      "source": [
        "# Dia 3\n",
        "# Laço de repetição while, break, variável acumuladora/contadora e exercícios"
      ],
      "metadata": {
        "id": "FjXgPs8F8q3R"
      }
    },
    {
      "cell_type": "code",
      "source": [
        "n = (int(input('Número: ')))\n",
        "\n",
        "while n > 0:\n",
        "    print(n)\n",
        "#aqui foi criado um loop infinito"
      ],
      "metadata": {
        "id": "AELopCfl_zUR"
      },
      "execution_count": null,
      "outputs": []
    },
    {
      "cell_type": "code",
      "source": [
        "x = 1\n",
        "while x <= 5:\n",
        "  x = x+1\n",
        "  print(x)"
      ],
      "metadata": {
        "colab": {
          "base_uri": "https://localhost:8080/"
        },
        "id": "yw9FQ6scLxWO",
        "outputId": "f5ca77f0-c396-464d-d9dd-720dab42ce40"
      },
      "execution_count": null,
      "outputs": [
        {
          "output_type": "stream",
          "name": "stdout",
          "text": [
            "2\n",
            "3\n",
            "4\n",
            "5\n",
            "6\n"
          ]
        }
      ]
    },
    {
      "cell_type": "code",
      "source": [
        "n = (int(input('Número: ')))\n",
        "\n",
        "while n > 0:\n",
        "    print(n)\n",
        "    n = n-5"
      ],
      "metadata": {
        "colab": {
          "base_uri": "https://localhost:8080/"
        },
        "id": "7onh2N37ASpi",
        "outputId": "7c71e965-9758-4294-a30b-5539199d5e0f"
      },
      "execution_count": null,
      "outputs": [
        {
          "output_type": "stream",
          "name": "stdout",
          "text": [
            "Número: 10\n",
            "10\n",
            "5\n"
          ]
        }
      ]
    },
    {
      "cell_type": "code",
      "source": [
        "numeros = [2, 4, 6, 8, 10]\n",
        "resultado = 1\n",
        "\n",
        "for numero in numeros:\n",
        "  resultado*=numero\n",
        "\n",
        "  print('O resultado da multiplicação dos números é: ', resultado)"
      ],
      "metadata": {
        "colab": {
          "base_uri": "https://localhost:8080/"
        },
        "id": "J1DiemLPBnl7",
        "outputId": "c348a72f-0dec-4995-ef7f-194d3c6953eb"
      },
      "execution_count": null,
      "outputs": [
        {
          "output_type": "stream",
          "name": "stdout",
          "text": [
            "O resultado da multiplicação dos números é:  2\n",
            "O resultado da multiplicação dos números é:  8\n",
            "O resultado da multiplicação dos números é:  48\n",
            "O resultado da multiplicação dos números é:  384\n",
            "O resultado da multiplicação dos números é:  3840\n"
          ]
        }
      ]
    },
    {
      "cell_type": "code",
      "source": [
        "contador = 1\n",
        "\n",
        "while contador <= 10:\n",
        "    print(contador)\n",
        "    contador += 1"
      ],
      "metadata": {
        "colab": {
          "base_uri": "https://localhost:8080/"
        },
        "id": "J_LjLdOdCC9g",
        "outputId": "a4b01dd8-c2bc-4753-a773-b9a5b8a8f493"
      },
      "execution_count": null,
      "outputs": [
        {
          "output_type": "stream",
          "name": "stdout",
          "text": [
            "1\n",
            "2\n",
            "3\n",
            "4\n",
            "5\n",
            "6\n",
            "7\n",
            "8\n",
            "9\n",
            "10\n"
          ]
        }
      ]
    },
    {
      "cell_type": "markdown",
      "source": [
        "# Atividade\n",
        "\n",
        "Countdown ano novo:\n",
        "\n",
        "1 - Defina a variável countdown com o valor inicial de 10.\n",
        "\n",
        "2 - Inicie o loop \"while\" com a condição countdown > 0. Isso significa que o loop continuará enquanto o valor de countdown for maior que zero.\n",
        "\n",
        "3 - Dentro do loop, imprima o valor atual de countdown.\n",
        "\n",
        "4 - Subtraia 1 do valor de countdown usando o operador (-). Isso diminuirá o valor de countdown em 1 a cada iteração do loop.\n",
        "\n",
        "5 - Após o término do loop, imprima a mensagem \"Feliz ano novo!\" para indicar que o countdown chegou a zero."
      ],
      "metadata": {
        "id": "9ezvCmGREKNL"
      }
    },
    {
      "cell_type": "code",
      "source": [
        "cont_regressiva = 10\n",
        "\n",
        "while cont_regressiva > 0:\n",
        "    print(cont_regressiva)\n",
        "    cont_regressiva -= 1\n",
        "\n",
        "print('Feliz ano novo!')"
      ],
      "metadata": {
        "colab": {
          "base_uri": "https://localhost:8080/"
        },
        "id": "vUP3au-aEMNz",
        "outputId": "61cf8e87-8796-4e09-caa2-74c5ce184ef5"
      },
      "execution_count": null,
      "outputs": [
        {
          "output_type": "stream",
          "name": "stdout",
          "text": [
            "10\n",
            "9\n",
            "8\n",
            "7\n",
            "6\n",
            "5\n",
            "4\n",
            "3\n",
            "2\n",
            "1\n",
            "Feliz ano novo!\n"
          ]
        }
      ]
    },
    {
      "cell_type": "code",
      "source": [
        "soma = 0\n",
        "while True:\n",
        "  valor = int(input('Digite um valor para somar ou 0 para sair: '))\n",
        "  if valor == 0:\n",
        "    break\n",
        "  soma += valor\n",
        "  print('Total soma: ', soma)"
      ],
      "metadata": {
        "colab": {
          "base_uri": "https://localhost:8080/"
        },
        "id": "sJSXgklyTXP-",
        "outputId": "4ca88e0a-66c6-46a4-b881-0c3bb34d2f55"
      },
      "execution_count": null,
      "outputs": [
        {
          "name": "stdout",
          "output_type": "stream",
          "text": [
            "Digite um valor para somar ou 0 para sair: 5\n",
            "Total soma:  5\n",
            "Digite um valor para somar ou 0 para sair: 5\n",
            "Total soma:  10\n",
            "Digite um valor para somar ou 0 para sair: 5\n",
            "Total soma:  15\n",
            "Digite um valor para somar ou 0 para sair: 4\n",
            "Total soma:  19\n",
            "Digite um valor para somar ou 0 para sair: 0\n"
          ]
        }
      ]
    },
    {
      "cell_type": "code",
      "source": [
        "# Break e For\n",
        "for i in range(1, 1500):\n",
        "  print(i)\n",
        "\n",
        "  if i == 10:\n",
        "    break"
      ],
      "metadata": {
        "colab": {
          "base_uri": "https://localhost:8080/"
        },
        "id": "6VQEZNXtFxza",
        "outputId": "0758ef31-bada-4ec8-a867-44d7978a045d"
      },
      "execution_count": null,
      "outputs": [
        {
          "output_type": "stream",
          "name": "stdout",
          "text": [
            "1\n",
            "2\n",
            "3\n",
            "4\n",
            "5\n",
            "6\n",
            "7\n",
            "8\n",
            "9\n",
            "10\n"
          ]
        }
      ]
    },
    {
      "cell_type": "code",
      "source": [
        "# Break e while\n",
        "contador = 0\n",
        "\n",
        "while True:\n",
        "  contador += 1\n",
        "  print('Contagem: ', contador)\n",
        "  if contador >= 5:\n",
        "    break"
      ],
      "metadata": {
        "colab": {
          "base_uri": "https://localhost:8080/"
        },
        "id": "Ibxv1WGtF-A4",
        "outputId": "9eebaf2c-7e08-4503-91c5-6c342dd4b86b"
      },
      "execution_count": null,
      "outputs": [
        {
          "output_type": "stream",
          "name": "stdout",
          "text": [
            "Contagem:  1\n",
            "Contagem:  2\n",
            "Contagem:  3\n",
            "Contagem:  4\n",
            "Contagem:  5\n"
          ]
        }
      ]
    },
    {
      "cell_type": "markdown",
      "source": [
        "# Atividade\n",
        "\n",
        "1 - Defina um loop infinito usando while True.\n",
        "\n",
        "2 - Dentro do loop, solicite à usuária que insira sua resposta. (NÃO ESQUEÇA DE GARANTIR QUE A RESPOSTA DO USUÁRIO SERÁ EM MINÚSCULO UTILIZANDO .lower())\n",
        "\n",
        "3 - Verifique se a resposta do usuária é \"sim\" usando uma declaração condicional if\n",
        "\n",
        "4 - Se a resposta for \"sim\", use a declaração break para sair do loop\n",
        "\n",
        "5 - Fora do loop, exiba uma mensagem para elogiar a si mesma."
      ],
      "metadata": {
        "id": "6UsZkUSRGqXc"
      }
    },
    {
      "cell_type": "code",
      "source": [
        "while True:\n",
        "  variavel = input('Eu posso ser uma programadora? ').lower()\n",
        "  if variavel == 'sim':\n",
        "    break\n",
        "\n",
        "print('Parabéns!')"
      ],
      "metadata": {
        "colab": {
          "base_uri": "https://localhost:8080/"
        },
        "id": "4jGMt7-OG1-D",
        "outputId": "66cbb68a-7a7b-4ef2-e78c-29bc44d94710"
      },
      "execution_count": null,
      "outputs": [
        {
          "output_type": "stream",
          "name": "stdout",
          "text": [
            "Eu posso ser uma programadora? nao\n",
            "Eu posso ser uma programadora? talvez\n",
            "Eu posso ser uma programadora? sim\n",
            "Parabéns!\n"
          ]
        }
      ]
    },
    {
      "cell_type": "markdown",
      "source": [
        "# Import e bibliotecas Python\n",
        "\n",
        "Import: Importa uma biblioteca externa\n",
        "\n",
        "Exemplos de bibliotecas:\n",
        "\n",
        "- Cálculos matemáticos complexos: math\n",
        "\n",
        "- Gráficos e visualizações: matplotlib"
      ],
      "metadata": {
        "id": "NOKr3FFuQrQp"
      }
    },
    {
      "cell_type": "markdown",
      "source": [
        "# Biblioteca para seleção aleatória de elementos: random\n",
        "\n",
        "Usamos a função random.choice() para selecionar\n",
        "aleatoriamente um elemento de uma lista.\n"
      ],
      "metadata": {
        "id": "kdqbsy3TXaud"
      }
    }
  ]
}