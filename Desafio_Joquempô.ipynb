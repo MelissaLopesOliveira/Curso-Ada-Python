{
  "nbformat": 4,
  "nbformat_minor": 0,
  "metadata": {
    "colab": {
      "provenance": [],
      "authorship_tag": "ABX9TyNn45ZvXt41JD4GCvZIEZ5U",
      "include_colab_link": true
    },
    "kernelspec": {
      "name": "python3",
      "display_name": "Python 3"
    },
    "language_info": {
      "name": "python"
    }
  },
  "cells": [
    {
      "cell_type": "markdown",
      "metadata": {
        "id": "view-in-github",
        "colab_type": "text"
      },
      "source": [
        "<a href=\"https://colab.research.google.com/github/MelissaLopesOliveira/Curso-Ada-Python/blob/main/Desafio_Joquemp%C3%B4.ipynb\" target=\"_parent\"><img src=\"https://colab.research.google.com/assets/colab-badge.svg\" alt=\"Open In Colab\"/></a>"
      ]
    },
    {
      "cell_type": "markdown",
      "source": [
        "#Desafio - Variáveis, Print, Input\n",
        "##Etapas do código:\n",
        "1 - Imprima uma mensagem de boas-vindas ao jogo;\n",
        "\n",
        "2 - Imprima uma mensagem solicitando que cada uma das duas jogadoras façam sua jogada, exibindo as opções possíveis: Pedra, Papel ou Tesoura;\n",
        "\n",
        "3 - Leitura da jogada da primeira jogadora;\n",
        "\n",
        "4 - Leitura da jogada da segunda jogadora;\n",
        "\n",
        "5 - Imprima a jogada das duas jogadoras na tela. Dica: use print(f””)!"
      ],
      "metadata": {
        "id": "RDLx_6DoqXvA"
      }
    },
    {
      "cell_type": "code",
      "source": [
        "print('Seja-bem vinda ao jogo!')\n",
        "print('Escolha entre Pedra, Papel ou Tesoura')\n",
        "\n",
        "jogada1 = str(input('Jogadora 1 insira sua jogada: ')).lower()\n",
        "jogada2 = str(input('Jogadora 2 insira sua jogada:')).lower()\n",
        "\n",
        "print(f\"Jogada da primeira jogadora: {jogada1}\")\n",
        "print(f\"Jogada da segunda jogadora: {jogada2}\")"
      ],
      "metadata": {
        "colab": {
          "base_uri": "https://localhost:8080/"
        },
        "id": "LUjtxDjATDiv",
        "outputId": "97a4eb9e-9cb2-4b8b-83e2-fbeb29a5be46"
      },
      "execution_count": null,
      "outputs": [
        {
          "output_type": "stream",
          "name": "stdout",
          "text": [
            "Seja-bem vinda ao jogo!\n",
            "Escolha entre Pedra, Papel ou Tesoura\n",
            "Jogadora 1 insira sua jogada: pedra\n",
            "Jogadora 2 insira sua jogada:papel\n",
            "Jogada da primeira jogadora: pedra\n",
            "Jogada da segunda jogadora: papel\n"
          ]
        }
      ]
    },
    {
      "cell_type": "markdown",
      "source": [
        "# Desafio - Condicional Composta (if, else)\n",
        "\n",
        "Verificação do resultado:\n",
        "\n",
        "1 - Agora vamos comparar a jogada das duas jogadoras!\n",
        "\n",
        "2 - Quais as condições que temos?\n",
        "\n",
        "● Empate [jogada1 == jogada2]\n",
        "\n",
        "● Pedra e Tesoura (Você ganhou)\n",
        "\n",
        "● Papel e Pedra (Você ganhou)\n",
        "\n",
        "● Tesoura e Papel (Você ganhou)\n",
        "\n",
        "● Você perdeu!"
      ],
      "metadata": {
        "id": "XWEjuC5oTiHR"
      }
    },
    {
      "cell_type": "code",
      "source": [
        "print('Seja-bem vinda ao jogo!')\n",
        "\n",
        "print('Escolha entre Pedra, Papel ou Tesoura')\n",
        "\n",
        "jogada1 = str(input('Jogadora 1 insira sua jogada: ')).lower()\n",
        "jogada2 = str(input('Jogadora 2 insira sua jogada:')).lower()\n",
        "\n",
        "if jogada1 == jogada2:\n",
        "  print(\"Empate\")\n",
        "\n",
        "elif jogada1 == \"pedra\" and jogada2 == \"tesoura\":\n",
        "    print(\"Jogadora 1 venceu\")\n",
        "\n",
        "elif jogada1 == \"tesoura\" and jogada2 == \"papel\":\n",
        "    print(\"Jogadora 1 venceu\")\n",
        "\n",
        "elif jogada1 == \"papel\" and jogada2 == \"pedra\":\n",
        "    print(\"Jogadora 1 venceu\")\n",
        "\n",
        "else:\n",
        "      print(\"Jogadora 2 venceu\")"
      ],
      "metadata": {
        "colab": {
          "base_uri": "https://localhost:8080/"
        },
        "id": "tVmyy_BVqjin",
        "outputId": "eef0694a-5637-45ec-fb81-c771abf7404a"
      },
      "execution_count": null,
      "outputs": [
        {
          "output_type": "stream",
          "name": "stdout",
          "text": [
            "Seja-bem vinda ao jogo!\n",
            "Escolha entre Pedra, Papel ou Tesoura\n",
            "Jogadora 1 insira sua jogada: pedra\n",
            "Jogadora 2 insira sua jogada:papel\n",
            "Jogadora 2 venceu\n"
          ]
        }
      ]
    },
    {
      "cell_type": "markdown",
      "source": [
        "#Desafio - Adicionando rodadas (for loop)\n",
        "\n",
        "Utilizando FOR loop:\n",
        "\n",
        "1 - Localize seu print() de boas-vindas;\n",
        "\n",
        "1 - Após o print(), iremos adicionar uma VARIÁVEL com o número de rodadas do\n",
        "nosso jogo;\n",
        "\n",
        "2 - Criaremos nosso for loop, com o range de 1 até 3, existem duas formas:\n",
        "\n",
        "range(0,rodadas) -> 0,1,2\n",
        "\n",
        "range(1,rodadas+1) -> 1,2,3 } 4 - Coloque todo o resto do seu código atual dentro do loop FOR!"
      ],
      "metadata": {
        "id": "QsezxdDt4yKK"
      }
    },
    {
      "cell_type": "code",
      "source": [
        "print('Seja-bem vinda ao jogo!')\n",
        "\n",
        "rodadas = 3\n",
        "for i in range(1, rodadas + 1):\n",
        "    print('Escolha entre Pedra, Papel ou Tesoura')\n",
        "\n",
        "    jogada1 = str(input('Jogadora 1 insira sua jogada: ')).lower()\n",
        "    jogada2 = str(input('Jogadora 2 insira sua jogada:')).lower()\n",
        "\n",
        "    if jogada1 == jogada2:\n",
        "     print(\"Empate\")\n",
        "\n",
        "    elif jogada1 == \"pedra\" and jogada2 == \"tesoura\":\n",
        "     print(\"Jogadora 1 venceu\")\n",
        "\n",
        "    elif jogada1 == \"tesoura\" and jogada2 == \"papel\":\n",
        "     print(\"Jogadora 1 venceu\")\n",
        "\n",
        "    elif jogada1 == \"papel\" and jogada2 == \"pedra\":\n",
        "     print(\"Jogadora 1 venceu\")\n",
        "\n",
        "    else:\n",
        "      print(\"Jogadora 2 venceu\")"
      ],
      "metadata": {
        "colab": {
          "base_uri": "https://localhost:8080/"
        },
        "id": "g1A_f_vlkDHa",
        "outputId": "b4b1cf98-75e9-4f97-838b-ee8853aa861b"
      },
      "execution_count": null,
      "outputs": [
        {
          "output_type": "stream",
          "name": "stdout",
          "text": [
            "Seja-bem vinda ao jogo!\n",
            "Escolha entre Pedra, Papel ou Tesoura\n",
            "Jogadora 1 insira sua jogada: pedra\n",
            "Jogadora 2 insira sua jogada:papel\n",
            "Jogadora 2 venceu\n",
            "Escolha entre Pedra, Papel ou Tesoura\n",
            "Jogadora 1 insira sua jogada: papel\n",
            "Jogadora 2 insira sua jogada:tesoura\n",
            "Jogadora 2 venceu\n",
            "Escolha entre Pedra, Papel ou Tesoura\n",
            "Jogadora 1 insira sua jogada: pedra\n",
            "Jogadora 2 insira sua jogada:pedra\n",
            "Empate\n"
          ]
        }
      ]
    },
    {
      "cell_type": "markdown",
      "source": [
        "# Desafio - Acumulando pontos (variável)\n",
        "\n",
        "Variáveis acumuladoras:\n",
        "\n",
        "1 - Localize sua variável que indica o número de rodadas;\n",
        "\n",
        "2 - Após a variável, vamos adicionar DUAS VARIÁVEIS ACUMULADORAS, os pontos_da_jogadora e os pontos_do_computador. Ambos irão iniciar com valor 0;\n",
        "\n",
        "3 - Sabe seu loop if/else? Nas condições que você ganhou, coloque:\n",
        "\n",
        "pontos_da_jogadora += 1\n",
        "\n",
        "Nas condições que você perdeu, coloque:\n",
        "\n",
        "pontos_do_computador += 1"
      ],
      "metadata": {
        "id": "kUIjoRM4lKss"
      }
    },
    {
      "cell_type": "code",
      "source": [
        "print('Seja-bem vinda ao jogo!')\n",
        "\n",
        "rodadas = 3\n",
        "pontos_jogadora1 = 0\n",
        "pontos_jogadora2 = 0\n",
        "\n",
        "for i in range(1, rodadas + 1):\n",
        "    print('Escolha entre Pedra, Papel ou Tesoura')\n",
        "\n",
        "    jogada1 = str(input('Jogadora 1 insira sua jogada: ')).lower()\n",
        "    jogada2 = str(input('Jogadora 2 insira sua jogada:')).lower()\n",
        "\n",
        "    if jogada1 == jogada2:\n",
        "     print(\"Rodada empatada\")\n",
        "\n",
        "    elif jogada1 == \"pedra\" and jogada2 == \"tesoura\":\n",
        "     print(\"Jogadora 1 venceu a rodada\")\n",
        "     pontos_jogadora1 += 1\n",
        "\n",
        "    elif jogada1 == \"tesoura\" and jogada2 == \"papel\":\n",
        "     print(\"Jogadora 1 venceu a rodada\")\n",
        "     pontos_jogadora1 += 1\n",
        "\n",
        "    elif jogada1 == \"papel\" and jogada2 == \"pedra\":\n",
        "     print(\"Jogadora 1 venceu a rodada\")\n",
        "     pontos_jogadora1 += 1\n",
        "\n",
        "    else:\n",
        "      print(\"Jogadora 2 venceu a rodada\")\n",
        "      pontos_jogadora2 += 1\n",
        "\n",
        "print(f'Pontos da jogadora 1: {pontos_jogadora1}')\n",
        "print(f'Pontos da jogadora 2: {pontos_jogadora2}')\n",
        "if pontos_jogadora1 > pontos_jogadora2:\n",
        "  print('Jogadora 1 venceu o jogo!')\n",
        "elif pontos_jogadora2 > pontos_jogadora1:\n",
        "  print('Jogadora 2 venceu o jogo!')\n",
        "else:\n",
        "  print('Jogo empatado!')"
      ],
      "metadata": {
        "colab": {
          "base_uri": "https://localhost:8080/"
        },
        "id": "TJltV4QTlK8S",
        "outputId": "b44f659a-b3f5-4d3c-ebdc-b84c5c2c4d24"
      },
      "execution_count": null,
      "outputs": [
        {
          "output_type": "stream",
          "name": "stdout",
          "text": [
            "Seja-bem vinda ao jogo!\n",
            "Escolha entre Pedra, Papel ou Tesoura\n",
            "Jogadora 1 insira sua jogada: pedra\n",
            "Jogadora 2 insira sua jogada:papel\n",
            "Jogadora 2 venceu a rodada\n",
            "Escolha entre Pedra, Papel ou Tesoura\n",
            "Jogadora 1 insira sua jogada: tesoura\n",
            "Jogadora 2 insira sua jogada:pedra\n",
            "Jogadora 2 venceu a rodada\n",
            "Escolha entre Pedra, Papel ou Tesoura\n",
            "Jogadora 1 insira sua jogada: papel\n",
            "Jogadora 2 insira sua jogada:papel\n",
            "Rodada empatada\n",
            "Pontos da jogadora 1: 0\n",
            "Pontos da jogadora 2: 2\n",
            "Jogadora 2 venceu o jogo!\n"
          ]
        }
      ]
    },
    {
      "cell_type": "markdown",
      "source": [
        "# Desafio - Verificação de Jogada da Jogadora\n",
        "\n",
        "Utilizando WHILE loop:\n",
        "\n",
        "1- Localize o código de leitura da jogada da jogadora (input())\n",
        "\n",
        "2- Após o input(), vamos adicionar um loop while que invalide todas as condições DIFERENTES de pedra, papel ou tesoura.\n",
        "\n",
        "jogada_da_jogadora != \"pedra\"\n",
        "\n",
        "jogada_da_jogadora != \"papel\"\n",
        "\n",
        "jogada_da_jogadora != \"tesoura\"\n",
        "\n",
        "3- Exiba uma mensagem de entrada inválida.\n",
        "\n",
        "4- Copie EXATAMENTE o mesmo código de leitura da jogadora dentro do while, para que ela possa jogar novamente até gerar uma entrada válida."
      ],
      "metadata": {
        "id": "Zr4w_MVTHcBX"
      }
    },
    {
      "cell_type": "code",
      "source": [
        "print('Seja-bem vinda ao jogo!')\n",
        "\n",
        "rodadas = 3\n",
        "pontos_jogadora1 = 0\n",
        "pontos_jogadora2 = 0\n",
        "\n",
        "for i in range(1, rodadas + 1):\n",
        "    print('Escolha entre Pedra, Papel ou Tesoura')\n",
        "\n",
        "    jogadora1 = str(input('Jogadora 1 insira sua jogada: ')).lower()\n",
        "    while jogadora1 != 'pedra' and jogadora1 != 'papel' and jogadora1 != 'tesoura':\n",
        "      print('Entrada inválida')\n",
        "      jogadora1 = str(input('Jogadora 1 insira sua jogada: ')).lower()\n",
        "\n",
        "    jogadora2 = str(input('Jogadora 2 insira sua jogada:')).lower()\n",
        "    while jogadora2 != 'pedra' and jogadora2 != 'papel' and jogadora2 != 'tesoura':\n",
        "      print('Entrada inválida')\n",
        "      jogadora2 = str(input('Jogadora 2 insira sua jogada: ')).lower()\n",
        "\n",
        "    if jogadora1 == jogadora2:\n",
        "     print(\"Rodada empatada\")\n",
        "\n",
        "    elif jogadora1 == \"pedra\" and jogadora2 == \"tesoura\":\n",
        "     print(\"Jogadora 1 venceu a rodada\")\n",
        "     pontos_jogadora1 += 1\n",
        "\n",
        "    elif jogadora1 == \"tesoura\" and jogadora2 == \"papel\":\n",
        "     print(\"Jogadora 1 venceu a rodada\")\n",
        "     pontos_jogadora1 += 1\n",
        "\n",
        "    elif jogadora1 == \"papel\" and jogadora2 == \"pedra\":\n",
        "     print(\"Jogadora 1 venceu a rodada\")\n",
        "     pontos_jogadora1 += 1\n",
        "\n",
        "    else:\n",
        "      print(\"Jogadora 2 venceu a rodada\")\n",
        "      pontos_jogadora2 += 1\n",
        "\n",
        "print(f'Pontos da jogadora 1: {pontos_jogadora1}')\n",
        "print(f'Pontos da jogadora 2: {pontos_jogadora2}')\n",
        "if pontos_jogadora1 > pontos_jogadora2:\n",
        "  print('Jogadora 1 venceu o jogo!')\n",
        "elif pontos_jogadora2 > pontos_jogadora1:\n",
        "  print('Jogadora 2 venceu o jogo!')\n",
        "else:\n",
        "  print('Jogo empatado!')"
      ],
      "metadata": {
        "colab": {
          "base_uri": "https://localhost:8080/"
        },
        "id": "FqMZf6iaHcL3",
        "outputId": "a5de6efc-1dea-4554-beb4-e311a19d8b88"
      },
      "execution_count": null,
      "outputs": [
        {
          "output_type": "stream",
          "name": "stdout",
          "text": [
            "Seja-bem vinda ao jogo!\n",
            "Escolha entre Pedra, Papel ou Tesoura\n",
            "Jogadora 1 insira sua jogada: ped\n",
            "Entrada inválida\n",
            "Jogadora 1 insira sua jogada: pedra\n",
            "Jogadora 2 insira sua jogada:papl\n",
            "Entrada inválida\n",
            "Jogadora 2 insira sua jogada: papel\n",
            "Jogadora 2 venceu a rodada\n",
            "Escolha entre Pedra, Papel ou Tesoura\n",
            "Jogadora 1 insira sua jogada: papel\n",
            "Jogadora 2 insira sua jogada:papel\n",
            "Rodada empatada\n",
            "Escolha entre Pedra, Papel ou Tesoura\n",
            "Jogadora 1 insira sua jogada: pedra\n",
            "Jogadora 2 insira sua jogada:tesoura\n",
            "Jogadora 1 venceu a rodada\n",
            "Pontos da jogadora 1: 1\n",
            "Pontos da jogadora 2: 1\n",
            "Jogo empatado!\n"
          ]
        }
      ]
    },
    {
      "cell_type": "markdown",
      "source": [
        "# Desafio - Computador jogando (import)\n",
        "\n",
        "Utilizando import random:\n",
        "\n",
        "1 - Importar a biblioteca `random` do Python\n",
        "\n",
        "2 - Criar uma lista com as opções que o computador pode jogar (pedra, papel e tesoura) dentro do choice\n",
        "\n",
        "3 - Usar a função choice da biblioteca random para escolher uma opção aleatoriamente na minha lista e armazenar resultado em uma variável\n",
        "\n",
        "4- Imprima a jogada do computador na tela"
      ],
      "metadata": {
        "id": "csQ3JzQRY_nt"
      }
    },
    {
      "cell_type": "code",
      "source": [
        "import random\n",
        "print('Seja-bem vinda ao jogo!')\n",
        "\n",
        "rodadas = 3\n",
        "pontos_jogadora = 0\n",
        "pontos_computador = 0\n",
        "\n",
        "computador = random.choice(['pedra', 'papel', 'tesoura'])\n",
        "for i in range(1, rodadas + 1):\n",
        "    print('Escolha entre Pedra, Papel ou Tesoura')\n",
        "    jogadora = str(input('Jogadora insira sua jogada: ')).lower()\n",
        "    print('Jogada do computador: ', computador)\n",
        "    while jogadora != 'pedra' and jogadora != 'papel' and jogadora != 'tesoura':\n",
        "      print('Entrada inválida')\n",
        "      jogadora = str(input('Jogadora insira sua jogada: ')).lower()\n",
        "\n",
        "\n",
        "    if jogadora == computador:\n",
        "       print(\"Rodada empatada\")\n",
        "\n",
        "    elif jogadora == \"pedra\" and computador == \"tesoura\":\n",
        "       print(\"Jogadora venceu a rodada\")\n",
        "       pontos_jogadora += 1\n",
        "\n",
        "    elif jogadora == \"tesoura\" and computador == \"papel\":\n",
        "     print(\"Jogadora venceu a rodada\")\n",
        "     pontos_jogadora += 1\n",
        "\n",
        "    elif jogadora == \"papel\" and computador == \"pedra\":\n",
        "     print(\"Jogadora venceu a rodada\")\n",
        "     pontos_jogadora1 += 1\n",
        "\n",
        "    else:\n",
        "      print(\"Computador venceu a rodada\")\n",
        "      pontos_computador += 1\n",
        "\n",
        "print(f'Pontos da jogadora: {pontos_jogadora}')\n",
        "print(f'Pontos do computador: {pontos_computador}')\n",
        "if pontos_jogadora > pontos_computador:\n",
        "  print('Jogadora venceu o jogo!')\n",
        "elif pontos_computador > pontos_jogadora:\n",
        "  print('Computador venceu o jogo!')\n",
        "else:\n",
        "  print('Jogo empatado!')\n",
        "\n"
      ],
      "metadata": {
        "colab": {
          "base_uri": "https://localhost:8080/"
        },
        "id": "BJysyoz80ThG",
        "outputId": "628db5fe-ea8e-48ea-f2cf-fd89dafb70a5"
      },
      "execution_count": 1,
      "outputs": [
        {
          "output_type": "stream",
          "name": "stdout",
          "text": [
            "Seja-bem vinda ao jogo!\n",
            "Escolha entre Pedra, Papel ou Tesoura\n",
            "Jogadora insira sua jogada: pedra\n",
            "Jogada do computador:  tesoura\n",
            "Jogadora venceu a rodada\n",
            "Escolha entre Pedra, Papel ou Tesoura\n",
            "Jogadora insira sua jogada: pedra\n",
            "Jogada do computador:  tesoura\n",
            "Jogadora venceu a rodada\n",
            "Escolha entre Pedra, Papel ou Tesoura\n",
            "Jogadora insira sua jogada: papel\n",
            "Jogada do computador:  tesoura\n",
            "Computador venceu a rodada\n",
            "Pontos da jogadora: 2\n",
            "Pontos do computador: 1\n",
            "Jogadora venceu o jogo!\n"
          ]
        }
      ]
    }
  ]
}